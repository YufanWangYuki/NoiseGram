{
 "cells": [
  {
   "cell_type": "code",
   "execution_count": 1,
   "id": "2716a57e",
   "metadata": {},
   "outputs": [],
   "source": [
    "import numpy as np\n",
    "import matplotlib.pyplot as plt\n",
    "import pandas as pd\n",
    "import os\n",
    "import pdb"
   ]
  },
  {
   "cell_type": "code",
   "execution_count": 23,
   "id": "01dcfcef",
   "metadata": {},
   "outputs": [
    {
     "data": {
      "text/plain": [
       "['BEA_orig_combine_seed_1.pred',\n",
       " 'BEA_volta_Gaussian_mul_1.0_0.0__256_8_combine_seed_1.pred',\n",
       " 'CoNLL_orig_combine_seed_1.pred',\n",
       " 'CoNLL_volta_Gaussian_mul_1.0_0.0__256_8_combine_seed_1.pred',\n",
       " 'attacks',\n",
       " 'clean_BEA_orig_combine_seed_1.pred',\n",
       " 'clean_BEA_volta_Gaussian_mul_1.0_0.0__256_8_combine_seed_1.pred',\n",
       " 'clean_input_sentences.txt',\n",
       " 'input_sentences.txt']"
      ]
     },
     "execution_count": 23,
     "metadata": {},
     "output_type": "execute_result"
    }
   ],
   "source": [
    "filePath = '/Users/yufanwang/Desktop/Study/Project/Data/conll'\n",
    "files = sorted(os.listdir(filePath))\n",
    "files.remove('.DS_Store')\n",
    "sorted(files)"
   ]
  },
  {
   "cell_type": "code",
   "execution_count": 24,
   "id": "a70552f9",
   "metadata": {},
   "outputs": [
    {
     "name": "stdout",
     "output_type": "stream",
     "text": [
      "CoNLL_orig_combine_seed_1.pred\n",
      "CoNLL_volta_Gaussian_mul_1.0_0.0__256_8_combine_seed_1.pred\n"
     ]
    }
   ],
   "source": [
    "for file in files[2:4]:\n",
    "    print(file)\n",
    "    f = open(filePath + '/' + file)\n",
    "    lines = f.readlines()\n",
    "    res = []\n",
    "    for line in lines:\n",
    "#         pdb.set_trace()\n",
    "#         new_line = line.split(\" \")\n",
    "#         new_line = (\" \").join(new_line[1:])\n",
    "        new_line = line\n",
    "        new_line = new_line.replace(\"..\",\".\")\n",
    "        new_line = new_line.replace(\".\",\" .\")\n",
    "        new_line = new_line.replace(\"?\",\" ?\")\n",
    "        new_line = new_line.replace(\",\",\" ,\")\n",
    "        new_line = new_line.replace(\"\\'\",\" \\'\")\n",
    "        new_line = new_line.replace(\"(\",\" (\")\n",
    "        new_line = new_line.replace(\")\",\" )\")\n",
    "        new_line = new_line.replace(\";\",\" ;\")\n",
    "        new_line = new_line.replace(\":\",\" :\")\n",
    "        new_line = new_line.replace(\"\\\"\",\" \\\"\")\n",
    "        new_line = new_line.replace(\"!\",\" !\")\n",
    "        new_line = new_line.replace(\"%\",\" %\")\n",
    "        new_line = new_line.replace(\"\\'ve\",\" \\'ve\")\n",
    "        new_line = new_line.replace(\"' 'potential bomb \",\"''potential bomb\")\n",
    "        new_line = new_line.replace(\"--\",\"-\")\n",
    "        new_line = new_line[:-3]+\".\"+new_line[-1:]\n",
    "        res.append(new_line)\n",
    "    with open(filePath+\"/clean_\"+file, 'w+') as f:\n",
    "        for idx, item in enumerate(res):\n",
    "#             f.write(str(idx)+\" \"+item)\n",
    "            f.write(item)"
   ]
  },
  {
   "cell_type": "code",
   "execution_count": null,
   "id": "0d265572",
   "metadata": {},
   "outputs": [],
   "source": []
  }
 ],
 "metadata": {
  "kernelspec": {
   "display_name": "Python 3.7.11 ('tensorflow')",
   "language": "python",
   "name": "python3711jvsc74a57bd05dda318d6b5314fdf5adaecef22cc28643ba623e44fc18f1a8a6e0fc05ee2f58"
  },
  "language_info": {
   "codemirror_mode": {
    "name": "ipython",
    "version": 3
   },
   "file_extension": ".py",
   "mimetype": "text/x-python",
   "name": "python",
   "nbconvert_exporter": "python",
   "pygments_lexer": "ipython3",
   "version": "3.7.11"
  }
 },
 "nbformat": 4,
 "nbformat_minor": 5
}
