{
 "cells": [
  {
   "cell_type": "code",
   "execution_count": 1,
   "id": "4e15b641",
   "metadata": {},
   "outputs": [],
   "source": [
    "import numpy as np\n",
    "import matplotlib.pyplot as plt\n",
    "import pandas as pd\n",
    "import os"
   ]
  },
  {
   "cell_type": "code",
   "execution_count": 3,
   "id": "5d7dbc8c",
   "metadata": {},
   "outputs": [
    {
     "data": {
      "text/plain": [
       "['full_N1_with_adv_not_removed.txt',\n",
       " 'full_N2_with_adv_not_removed.txt',\n",
       " 'full_N3_with_adv_not_removed.txt',\n",
       " 'full_N4_with_adv_not_removed_v2.txt',\n",
       " 'full_N5_with_adv_not_removed.txt',\n",
       " 'full_N6_with_adv_not_removed.txt',\n",
       " 'full_N7_with_adv_not_removed.txt',\n",
       " 'orig_with_adv_not_removed.txt']"
      ]
     },
     "execution_count": 3,
     "metadata": {},
     "output_type": "execute_result"
    }
   ],
   "source": [
    "import os\n",
    "filePath = '/Users/yufanwang/Desktop/Study/Project/Data/v003_0.1/perp/'\n",
    "files = sorted(os.listdir(filePath))\n",
    "files.remove('vyas')\n",
    "files.remove('.DS_Store')\n",
    "sorted(files)"
   ]
  },
  {
   "cell_type": "code",
   "execution_count": 4,
   "id": "b18c4e47",
   "metadata": {},
   "outputs": [
    {
     "name": "stdout",
     "output_type": "stream",
     "text": [
      "/Users/yufanwang/Desktop/Study/Project/Data/v003_0.1/perp//orig_with_adv_not_removed.txt\n"
     ]
    },
    {
     "data": {
      "text/html": [
       "<div>\n",
       "<style scoped>\n",
       "    .dataframe tbody tr th:only-of-type {\n",
       "        vertical-align: middle;\n",
       "    }\n",
       "\n",
       "    .dataframe tbody tr th {\n",
       "        vertical-align: top;\n",
       "    }\n",
       "\n",
       "    .dataframe thead th {\n",
       "        text-align: right;\n",
       "    }\n",
       "</style>\n",
       "<table border=\"1\" class=\"dataframe\">\n",
       "  <thead>\n",
       "    <tr style=\"text-align: right;\">\n",
       "      <th></th>\n",
       "      <th>length</th>\n",
       "      <th>zero edit rate</th>\n",
       "      <th>orig mean</th>\n",
       "      <th>orig std</th>\n",
       "      <th>adv mean</th>\n",
       "      <th>adv std</th>\n",
       "    </tr>\n",
       "  </thead>\n",
       "  <tbody>\n",
       "    <tr>\n",
       "      <th>0</th>\n",
       "      <td>0</td>\n",
       "      <td>0.377469</td>\n",
       "      <td>1.361375</td>\n",
       "      <td>1.612356</td>\n",
       "      <td>0.000000</td>\n",
       "      <td>0.000000</td>\n",
       "    </tr>\n",
       "    <tr>\n",
       "      <th>1</th>\n",
       "      <td>1</td>\n",
       "      <td>0.404535</td>\n",
       "      <td>1.181053</td>\n",
       "      <td>1.523013</td>\n",
       "      <td>0.119605</td>\n",
       "      <td>0.324558</td>\n",
       "    </tr>\n",
       "    <tr>\n",
       "      <th>2</th>\n",
       "      <td>2</td>\n",
       "      <td>0.422458</td>\n",
       "      <td>1.124360</td>\n",
       "      <td>1.510752</td>\n",
       "      <td>0.102780</td>\n",
       "      <td>0.358942</td>\n",
       "    </tr>\n",
       "    <tr>\n",
       "      <th>3</th>\n",
       "      <td>3</td>\n",
       "      <td>0.429042</td>\n",
       "      <td>1.125091</td>\n",
       "      <td>1.539481</td>\n",
       "      <td>0.113021</td>\n",
       "      <td>0.373900</td>\n",
       "    </tr>\n",
       "    <tr>\n",
       "      <th>4</th>\n",
       "      <td>4</td>\n",
       "      <td>0.451719</td>\n",
       "      <td>1.102048</td>\n",
       "      <td>1.516168</td>\n",
       "      <td>0.057059</td>\n",
       "      <td>0.253117</td>\n",
       "    </tr>\n",
       "    <tr>\n",
       "      <th>5</th>\n",
       "      <td>5</td>\n",
       "      <td>0.455743</td>\n",
       "      <td>1.101317</td>\n",
       "      <td>1.553408</td>\n",
       "      <td>0.078274</td>\n",
       "      <td>0.327566</td>\n",
       "    </tr>\n",
       "    <tr>\n",
       "      <th>6</th>\n",
       "      <td>6</td>\n",
       "      <td>0.455743</td>\n",
       "      <td>1.099488</td>\n",
       "      <td>1.497276</td>\n",
       "      <td>0.080834</td>\n",
       "      <td>0.328618</td>\n",
       "    </tr>\n",
       "    <tr>\n",
       "      <th>7</th>\n",
       "      <td>7</td>\n",
       "      <td>0.453914</td>\n",
       "      <td>1.068764</td>\n",
       "      <td>1.471658</td>\n",
       "      <td>0.096196</td>\n",
       "      <td>0.374694</td>\n",
       "    </tr>\n",
       "  </tbody>\n",
       "</table>\n",
       "</div>"
      ],
      "text/plain": [
       "   length  zero edit rate  orig mean  orig std  adv mean   adv std\n",
       "0       0        0.377469   1.361375  1.612356  0.000000  0.000000\n",
       "1       1        0.404535   1.181053  1.523013  0.119605  0.324558\n",
       "2       2        0.422458   1.124360  1.510752  0.102780  0.358942\n",
       "3       3        0.429042   1.125091  1.539481  0.113021  0.373900\n",
       "4       4        0.451719   1.102048  1.516168  0.057059  0.253117\n",
       "5       5        0.455743   1.101317  1.553408  0.078274  0.327566\n",
       "6       6        0.455743   1.099488  1.497276  0.080834  0.328618\n",
       "7       7        0.453914   1.068764  1.471658  0.096196  0.374694"
      ]
     },
     "execution_count": 4,
     "metadata": {},
     "output_type": "execute_result"
    }
   ],
   "source": [
    "length = []\n",
    "zero_edits = []\n",
    "orig_mean = []\n",
    "orig_std = []\n",
    "adv_mean = []\n",
    "adv_std = []\n",
    "\n",
    "for file in files:\n",
    "    if 'orig' in file:\n",
    "        orig_file = file\n",
    "print(filePath + '/' + orig_file)\n",
    "# Orig\n",
    "f = open(filePath + '/' + orig_file)\n",
    "lines = f.readlines()[-3:]\n",
    "length.append(0)\n",
    "zero_edits.append(float(lines[0][61:].replace('\\n','')))\n",
    "sub_value = lines[1].split(' ')\n",
    "orig_mean.append(float(sub_value[3].replace('\\t','')))\n",
    "orig_std.append(float(sub_value[5].replace('\\n','')))\n",
    "sub_value = lines[2].split(' ')\n",
    "adv_mean.append(float(sub_value[3].replace('\\t','')))\n",
    "adv_std.append(float(sub_value[5].replace('\\n','')))\n",
    "\n",
    "\n",
    "for file in files:\n",
    "    if 'Vyas' in file or 'orig' in file:\n",
    "        continue\n",
    "    length.append(int(file[6]))\n",
    "    f = open(filePath + '/' + file)\n",
    "    lines = f.readlines()[-3:]\n",
    "    zero_edits.append(float(lines[0][61:].replace('\\n','')))\n",
    "    sub_value = lines[1].split(' ')\n",
    "    orig_mean.append(float(sub_value[3].replace('\\t','')))\n",
    "    orig_std.append(float(sub_value[5].replace('\\n','')))\n",
    "    sub_value = lines[2].split(' ')\n",
    "    adv_mean.append(float(sub_value[3].replace('\\t','')))\n",
    "    adv_std.append(float(sub_value[5].replace('\\n','')))\n",
    "\n",
    "data = {'length':length,\n",
    "       'zero edit rate':zero_edits,\n",
    "       'orig mean':orig_mean,\n",
    "       'orig std':orig_std,\n",
    "       'adv mean':adv_mean,\n",
    "       'adv std':adv_std}\n",
    "df_new = pd.DataFrame(data)\n",
    "df_new"
   ]
  },
  {
   "cell_type": "code",
   "execution_count": 6,
   "id": "f0d31380",
   "metadata": {},
   "outputs": [
    {
     "data": {
      "text/plain": [
       "['evade_perp_beam1_N1_with_adv_not_removed.txt',\n",
       " 'evade_perp_beam1_N2_with_adv_not_removed.txt',\n",
       " 'evade_perp_beam1_N3_with_adv_not_removed.txt',\n",
       " 'evade_perp_beam1_N4_with_adv_not_removed.txt',\n",
       " 'evade_perp_beam1_N5_with_adv_not_removed.txt',\n",
       " 'evade_perp_beam1_N6_with_adv_not_removed.txt',\n",
       " 'evade_perp_beam1_N7_with_adv_not_removed.txt',\n",
       " 'evade_perp_beam1_N8_with_adv_not_removed.txt',\n",
       " 'no_attack.txt']"
      ]
     },
     "execution_count": 6,
     "metadata": {},
     "output_type": "execute_result"
    }
   ],
   "source": [
    "import os\n",
    "filePath = '/Users/yufanwang/Desktop/Study/Project/Data/v003_0.1/perp/vyas'\n",
    "files = sorted(os.listdir(filePath))\n",
    "# files.remove('vyas')\n",
    "# files.remove('.DS_Store')\n",
    "sorted(files)"
   ]
  },
  {
   "cell_type": "code",
   "execution_count": 7,
   "id": "06c41348",
   "metadata": {},
   "outputs": [
    {
     "name": "stdout",
     "output_type": "stream",
     "text": [
      "/Users/yufanwang/Desktop/Study/Project/Data/v003_0.1/perp/vyas/no_attack.txt\n"
     ]
    },
    {
     "ename": "ValueError",
     "evalue": "could not convert string to float: ",
     "output_type": "error",
     "traceback": [
      "\u001b[0;31m---------------------------------------------------------------------------\u001b[0m",
      "\u001b[0;31mValueError\u001b[0m                                Traceback (most recent call last)",
      "\u001b[0;32m<ipython-input-7-5c5f82352d05>\u001b[0m in \u001b[0;36m<module>\u001b[0;34m\u001b[0m\n\u001b[1;32m     14\u001b[0m \u001b[0mlines\u001b[0m \u001b[0;34m=\u001b[0m \u001b[0mf\u001b[0m\u001b[0;34m.\u001b[0m\u001b[0mreadlines\u001b[0m\u001b[0;34m(\u001b[0m\u001b[0;34m)\u001b[0m\u001b[0;34m[\u001b[0m\u001b[0;34m-\u001b[0m\u001b[0;36m3\u001b[0m\u001b[0;34m:\u001b[0m\u001b[0;34m]\u001b[0m\u001b[0;34m\u001b[0m\u001b[0;34m\u001b[0m\u001b[0m\n\u001b[1;32m     15\u001b[0m \u001b[0mlength\u001b[0m\u001b[0;34m.\u001b[0m\u001b[0mappend\u001b[0m\u001b[0;34m(\u001b[0m\u001b[0;36m0\u001b[0m\u001b[0;34m)\u001b[0m\u001b[0;34m\u001b[0m\u001b[0;34m\u001b[0m\u001b[0m\n\u001b[0;32m---> 16\u001b[0;31m \u001b[0mzero_edits\u001b[0m\u001b[0;34m.\u001b[0m\u001b[0mappend\u001b[0m\u001b[0;34m(\u001b[0m\u001b[0mfloat\u001b[0m\u001b[0;34m(\u001b[0m\u001b[0mlines\u001b[0m\u001b[0;34m[\u001b[0m\u001b[0;36m0\u001b[0m\u001b[0;34m]\u001b[0m\u001b[0;34m[\u001b[0m\u001b[0;36m61\u001b[0m\u001b[0;34m:\u001b[0m\u001b[0;34m]\u001b[0m\u001b[0;34m.\u001b[0m\u001b[0mreplace\u001b[0m\u001b[0;34m(\u001b[0m\u001b[0;34m'\\n'\u001b[0m\u001b[0;34m,\u001b[0m\u001b[0;34m''\u001b[0m\u001b[0;34m)\u001b[0m\u001b[0;34m)\u001b[0m\u001b[0;34m)\u001b[0m\u001b[0;34m\u001b[0m\u001b[0;34m\u001b[0m\u001b[0m\n\u001b[0m\u001b[1;32m     17\u001b[0m \u001b[0msub_value\u001b[0m \u001b[0;34m=\u001b[0m \u001b[0mlines\u001b[0m\u001b[0;34m[\u001b[0m\u001b[0;36m1\u001b[0m\u001b[0;34m]\u001b[0m\u001b[0;34m.\u001b[0m\u001b[0msplit\u001b[0m\u001b[0;34m(\u001b[0m\u001b[0;34m' '\u001b[0m\u001b[0;34m)\u001b[0m\u001b[0;34m\u001b[0m\u001b[0;34m\u001b[0m\u001b[0m\n\u001b[1;32m     18\u001b[0m \u001b[0morig_mean\u001b[0m\u001b[0;34m.\u001b[0m\u001b[0mappend\u001b[0m\u001b[0;34m(\u001b[0m\u001b[0mfloat\u001b[0m\u001b[0;34m(\u001b[0m\u001b[0msub_value\u001b[0m\u001b[0;34m[\u001b[0m\u001b[0;36m3\u001b[0m\u001b[0;34m]\u001b[0m\u001b[0;34m.\u001b[0m\u001b[0mreplace\u001b[0m\u001b[0;34m(\u001b[0m\u001b[0;34m'\\t'\u001b[0m\u001b[0;34m,\u001b[0m\u001b[0;34m''\u001b[0m\u001b[0;34m)\u001b[0m\u001b[0;34m)\u001b[0m\u001b[0;34m)\u001b[0m\u001b[0;34m\u001b[0m\u001b[0;34m\u001b[0m\u001b[0m\n",
      "\u001b[0;31mValueError\u001b[0m: could not convert string to float: "
     ]
    }
   ],
   "source": [
    "length = []\n",
    "zero_edits = []\n",
    "# orig_mean = []\n",
    "# orig_std = []\n",
    "# adv_mean = []\n",
    "# adv_std = []\n",
    "\n",
    "for file in files:\n",
    "    if 'no_attack' in file:\n",
    "        orig_file = file\n",
    "print(filePath + '/' + orig_file)\n",
    "# Orig\n",
    "f = open(filePath + '/' + orig_file)\n",
    "lines = f.readlines()[-3:]\n",
    "length.append(0)\n",
    "zero_edits.append(float(lines[0][61:].replace('\\n','')))\n",
    "sub_value = lines[1].split(' ')\n",
    "orig_mean.append(float(sub_value[3].replace('\\t','')))\n",
    "orig_std.append(float(sub_value[5].replace('\\n','')))\n",
    "sub_value = lines[2].split(' ')\n",
    "adv_mean.append(float(sub_value[3].replace('\\t','')))\n",
    "adv_std.append(float(sub_value[5].replace('\\n','')))\n",
    "\n",
    "\n",
    "for file in files:\n",
    "    if 'Vyas' in file or 'orig' in file:\n",
    "        continue\n",
    "    length.append(int(file[6]))\n",
    "    f = open(filePath + '/' + file)\n",
    "    lines = f.readlines()[-3:]\n",
    "    zero_edits.append(float(lines[0][61:].replace('\\n','')))\n",
    "    sub_value = lines[1].split(' ')\n",
    "    orig_mean.append(float(sub_value[3].replace('\\t','')))\n",
    "    orig_std.append(float(sub_value[5].replace('\\n','')))\n",
    "    sub_value = lines[2].split(' ')\n",
    "    adv_mean.append(float(sub_value[3].replace('\\t','')))\n",
    "    adv_std.append(float(sub_value[5].replace('\\n','')))\n",
    "\n",
    "data = {'length':length,\n",
    "       'zero edit rate':zero_edits,\n",
    "       'orig mean':orig_mean,\n",
    "       'orig std':orig_std,\n",
    "       'adv mean':adv_mean,\n",
    "       'adv std':adv_std}\n",
    "df_new = pd.DataFrame(data)\n",
    "df_new"
   ]
  },
  {
   "cell_type": "code",
   "execution_count": null,
   "id": "f3aed56b",
   "metadata": {},
   "outputs": [],
   "source": []
  }
 ],
 "metadata": {
  "kernelspec": {
   "display_name": "Python 3.7.11 ('tensorflow')",
   "language": "python",
   "name": "python3711jvsc74a57bd05dda318d6b5314fdf5adaecef22cc28643ba623e44fc18f1a8a6e0fc05ee2f58"
  },
  "language_info": {
   "codemirror_mode": {
    "name": "ipython",
    "version": 3
   },
   "file_extension": ".py",
   "mimetype": "text/x-python",
   "name": "python",
   "nbconvert_exporter": "python",
   "pygments_lexer": "ipython3",
   "version": "3.7.11"
  }
 },
 "nbformat": 4,
 "nbformat_minor": 5
}
