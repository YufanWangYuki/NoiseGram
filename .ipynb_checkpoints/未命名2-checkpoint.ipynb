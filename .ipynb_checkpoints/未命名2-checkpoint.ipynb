{
 "cells": [
  {
   "cell_type": "code",
   "execution_count": 4,
   "id": "6ee1c46a",
   "metadata": {},
   "outputs": [],
   "source": [
    "import numpy as np\n",
    "import matplotlib.pyplot as plt\n",
    "import pandas as pd\n",
    "import os\n",
    "import pdb"
   ]
  },
  {
   "cell_type": "code",
   "execution_count": 9,
   "id": "343faca7",
   "metadata": {},
   "outputs": [
    {
     "data": {
      "text/plain": [
       "['BEA_orig_combine_seed_1.pred',\n",
       " 'BEA_volta_Gaussian_mul_1.0_0.0__256_8_combine_seed_1.pred',\n",
       " 'CoNLL_orig_combine_seed_1.pred',\n",
       " 'CoNLL_volta_Gaussian_mul_1.0_0.0__256_8_combine_seed_1.pred']"
      ]
     },
     "execution_count": 9,
     "metadata": {},
     "output_type": "execute_result"
    }
   ],
   "source": [
    "filePath = '/Users/yufanwang/Desktop/Study/Project/Data/conll/'\n",
    "files = sorted(os.listdir(filePath))\n",
    "# files.remove('vyas')\n",
    "sorted(files)"
   ]
  },
  {
   "cell_type": "code",
   "execution_count": null,
   "id": "a1e4a246",
   "metadata": {},
   "outputs": [
    {
     "name": "stdout",
     "output_type": "stream",
     "text": [
      "CoNLL_orig_combine_seed_1.pred\n",
      "> \u001b[0;32m<ipython-input-12-a3a9a73435a3>\u001b[0m(8)\u001b[0;36m<module>\u001b[0;34m()\u001b[0m\n",
      "\u001b[0;32m      6 \u001b[0;31m    \u001b[0;32mfor\u001b[0m \u001b[0mline\u001b[0m \u001b[0;32min\u001b[0m \u001b[0mlines\u001b[0m\u001b[0;34m:\u001b[0m\u001b[0;34m\u001b[0m\u001b[0;34m\u001b[0m\u001b[0m\n",
      "\u001b[0m\u001b[0;32m      7 \u001b[0;31m        \u001b[0mpdb\u001b[0m\u001b[0;34m.\u001b[0m\u001b[0mset_trace\u001b[0m\u001b[0;34m(\u001b[0m\u001b[0;34m)\u001b[0m\u001b[0;34m\u001b[0m\u001b[0;34m\u001b[0m\u001b[0m\n",
      "\u001b[0m\u001b[0;32m----> 8 \u001b[0;31m        \u001b[0mnew_line\u001b[0m \u001b[0;34m=\u001b[0m \u001b[0mline\u001b[0m\u001b[0;34m.\u001b[0m\u001b[0msplit\u001b[0m\u001b[0;34m(\u001b[0m\u001b[0;34m\" \"\u001b[0m\u001b[0;34m)\u001b[0m\u001b[0;34m\u001b[0m\u001b[0;34m\u001b[0m\u001b[0m\n",
      "\u001b[0m\u001b[0;32m      9 \u001b[0;31m        \u001b[0mnew_line\u001b[0m \u001b[0;34m=\u001b[0m \u001b[0;34m(\u001b[0m\u001b[0;34m\" \"\u001b[0m\u001b[0;34m)\u001b[0m\u001b[0;34m.\u001b[0m\u001b[0mjoin\u001b[0m\u001b[0;34m(\u001b[0m\u001b[0mnew_line\u001b[0m\u001b[0;34m[\u001b[0m\u001b[0;36m1\u001b[0m\u001b[0;34m:\u001b[0m\u001b[0;34m]\u001b[0m\u001b[0;34m)\u001b[0m\u001b[0;34m\u001b[0m\u001b[0;34m\u001b[0m\u001b[0m\n",
      "\u001b[0m\u001b[0;32m     10 \u001b[0;31m        \u001b[0mnew_line\u001b[0m \u001b[0;34m=\u001b[0m \u001b[0mline\u001b[0m\u001b[0;34m.\u001b[0m\u001b[0mreplace\u001b[0m\u001b[0;34m(\u001b[0m\u001b[0;34m\"..\"\u001b[0m\u001b[0;34m,\u001b[0m\u001b[0;34m\".\"\u001b[0m\u001b[0;34m)\u001b[0m\u001b[0;34m\u001b[0m\u001b[0;34m\u001b[0m\u001b[0m\n",
      "\u001b[0m\n",
      "ipdb> new_line = line.split(\" \")\n",
      "ipdb> new_line\n",
      "['0', 'Keeping', 'the', 'Secret', 'of', 'Genetic', 'Testing\\n']\n",
      "ipdb> new_line = (\" \").join(new_line[1:])\n",
      "ipdb> new_line\n",
      "'Keeping the Secret of Genetic Testing\\n'\n"
     ]
    }
   ],
   "source": [
    "for file in files[2:]:\n",
    "    print(file)\n",
    "    f = open(filePath + '/' + file)\n",
    "    lines = f.readlines()\n",
    "    res = []\n",
    "    for line in lines:\n",
    "#         pdb.set_trace()\n",
    "        new_line = line.split(\" \")\n",
    "        new_line = (\" \").join(new_line[1:])\n",
    "        new_line = line.replace(\"..\",\".\")\n",
    "        new_line = new_line.replace(\".\",\" .\")\n",
    "        new_line = new_line.replace(\".\",\" .\")\n",
    "        new_line = new_line.replace(\"?\",\" ?\")\n",
    "        new_line = new_line.replace(\",\",\" ,\")\n",
    "        new_line = new_line.replace(\"'\",\" '\")\n",
    "        new_line = new_line.replace(\"(\",\" (\")\n",
    "        new_line = new_line.replace(\")\",\" )\")\n",
    "        new_line = new_line.replace(\";\",\" ;\")\n",
    "        new_line = new_line.replace(\":\",\" :\")\n",
    "        new_line = new_line.replace(\"\"\",\" \"\"\")\n",
    "        new_line = new_line.replace(\"!,\" !\")\n",
    "        new_line = new_line.replace(\"%,\" %\")\n",
    "        res.append(new_line)"
   ]
  },
  {
   "cell_type": "code",
   "execution_count": null,
   "id": "109f06b8",
   "metadata": {},
   "outputs": [],
   "source": []
  }
 ],
 "metadata": {
  "kernelspec": {
   "display_name": "Python 3.7.11 ('tensorflow')",
   "language": "python",
   "name": "python3711jvsc74a57bd05dda318d6b5314fdf5adaecef22cc28643ba623e44fc18f1a8a6e0fc05ee2f58"
  },
  "language_info": {
   "codemirror_mode": {
    "name": "ipython",
    "version": 3
   },
   "file_extension": ".py",
   "mimetype": "text/x-python",
   "name": "python",
   "nbconvert_exporter": "python",
   "pygments_lexer": "ipython3",
   "version": "3.7.11"
  }
 },
 "nbformat": 4,
 "nbformat_minor": 5
}
