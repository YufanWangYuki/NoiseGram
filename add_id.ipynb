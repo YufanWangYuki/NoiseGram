{
 "cells": [
  {
   "cell_type": "code",
   "execution_count": 5,
   "id": "1735352f",
   "metadata": {},
   "outputs": [],
   "source": [
    "import os"
   ]
  },
  {
   "cell_type": "code",
   "execution_count": 6,
   "id": "d9409052",
   "metadata": {},
   "outputs": [],
   "source": [
    "file = \"/Users/yufanwang/Desktop/Study/Project/dataset/test.src\"\n",
    "filename = \"/Users/yufanwang/Desktop/Study/Project/dataset/test_id.src\""
   ]
  },
  {
   "cell_type": "code",
   "execution_count": 7,
   "id": "36b788ca",
   "metadata": {},
   "outputs": [
    {
     "name": "stdout",
     "output_type": "stream",
     "text": [
      "2754\n"
     ]
    }
   ],
   "source": [
    "with open(file, 'r') as f:\n",
    "    lines = f.readlines()\n",
    "    \n",
    "sens = []\n",
    "idx = 0\n",
    "for l in lines:\n",
    "    if len(l) <= 1:\n",
    "        continue\n",
    "    sens.append(str(idx) + \" \" + l)\n",
    "    idx += 1\n",
    "with open(filename, 'w') as f:\n",
    "    f.writelines(sens)\n",
    "print(idx)"
   ]
  },
  {
   "cell_type": "code",
   "execution_count": 8,
   "id": "5142e4d5",
   "metadata": {},
   "outputs": [],
   "source": [
    "file = \"/Users/yufanwang/Desktop/Study/Project/dataset/test.tgt\"\n",
    "filename = \"/Users/yufanwang/Desktop/Study/Project/dataset/test_id.tgt\""
   ]
  },
  {
   "cell_type": "code",
   "execution_count": 8,
   "id": "efde1bc1",
   "metadata": {},
   "outputs": [
    {
     "name": "stdout",
     "output_type": "stream",
     "text": [
      "2754\n"
     ]
    }
   ],
   "source": [
    "with open(file, 'r') as f:\n",
    "    lines = f.readlines()\n",
    "    \n",
    "sens = []\n",
    "idx = 0\n",
    "for l in lines:\n",
    "    if len(l) <= 1:\n",
    "        continue\n",
    "    sens.append(str(idx) + \" \" + l)\n",
    "    idx += 1\n",
    "with open(filename, 'w') as f:\n",
    "    f.writelines(sens)\n",
    "print(idx)"
   ]
  },
  {
   "cell_type": "code",
   "execution_count": null,
   "id": "86d8bbae",
   "metadata": {},
   "outputs": [],
   "source": []
  }
 ],
 "metadata": {
  "kernelspec": {
   "display_name": "Python 3.7.11 ('tensorflow')",
   "language": "python",
   "name": "python3711jvsc74a57bd05dda318d6b5314fdf5adaecef22cc28643ba623e44fc18f1a8a6e0fc05ee2f58"
  },
  "language_info": {
   "codemirror_mode": {
    "name": "ipython",
    "version": 3
   },
   "file_extension": ".py",
   "mimetype": "text/x-python",
   "name": "python",
   "nbconvert_exporter": "python",
   "pygments_lexer": "ipython3",
   "version": "3.7.11"
  }
 },
 "nbformat": 4,
 "nbformat_minor": 5
}
