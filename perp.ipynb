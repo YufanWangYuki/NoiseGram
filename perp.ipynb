{
 "cells": [
  {
   "cell_type": "code",
   "execution_count": 1,
   "id": "4e15b641",
   "metadata": {},
   "outputs": [],
   "source": [
    "import numpy as np\n",
    "import matplotlib.pyplot as plt\n",
    "import pandas as pd\n",
    "import os"
   ]
  },
  {
   "cell_type": "code",
   "execution_count": null,
   "id": "5d7dbc8c",
   "metadata": {},
   "outputs": [],
   "source": [
    "import os\n",
    "filePath = '/Users/yufanwang/Desktop/Study/Project/Data/v003_0.1/perp/'\n",
    "files = sorted(os.listdir(filePath))\n",
    "files.remove('vyas')\n",
    "sorted(files)"
   ]
  }
 ],
 "metadata": {
  "kernelspec": {
   "display_name": "Python 3.7.11 ('tensorflow')",
   "language": "python",
   "name": "python3711jvsc74a57bd05dda318d6b5314fdf5adaecef22cc28643ba623e44fc18f1a8a6e0fc05ee2f58"
  },
  "language_info": {
   "codemirror_mode": {
    "name": "ipython",
    "version": 3
   },
   "file_extension": ".py",
   "mimetype": "text/x-python",
   "name": "python",
   "nbconvert_exporter": "python",
   "pygments_lexer": "ipython3",
   "version": "3.7.11"
  }
 },
 "nbformat": 4,
 "nbformat_minor": 5
}
