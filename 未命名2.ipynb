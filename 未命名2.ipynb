{
 "cells": [
  {
   "cell_type": "code",
   "execution_count": 24,
   "id": "f5d427ce",
   "metadata": {},
   "outputs": [],
   "source": [
    "import numpy as np\n",
    "import matplotlib.pyplot as plt\n",
    "import pandas as pd\n",
    "import os\n",
    "import pdb"
   ]
  },
  {
   "cell_type": "code",
   "execution_count": 37,
   "id": "2cd50bdc",
   "metadata": {},
   "outputs": [
    {
     "data": {
      "text/plain": [
       "['full_N5_BEA_with_adv_not_removed.pred',\n",
       " 'full_N5_BEA_with_adv_removed.pred',\n",
       " 'full_N5_CoNLL_with_adv_not_removed.pred',\n",
       " 'full_N5_CoNLL_with_adv_removed.pred',\n",
       " 'perp_N5_BEA_with_adv_not_removed.pred',\n",
       " 'perp_N5_BEA_with_adv_removed.pred',\n",
       " 'perp_N5_CoNLL_with_adv_not_removed.pred',\n",
       " 'perp_N5_CoNLL_with_adv_removed.pred',\n",
       " 'volta_Gaussian_mul_1.0_0.0__256_8_full_N5_BEA_with_adv_not_removed.pred',\n",
       " 'volta_Gaussian_mul_1.0_0.0__256_8_full_N5_BEA_with_adv_removed.pred',\n",
       " 'volta_Gaussian_mul_1.0_0.0__256_8_full_N5_CoNLL_with_adv_not_removed.pred',\n",
       " 'volta_Gaussian_mul_1.0_0.0__256_8_full_N5_CoNLL_with_adv_removed.pred',\n",
       " 'volta_Gaussian_mul_1.0_0.0__256_8_perp_N5_BEA_with_adv_not_removed.pred',\n",
       " 'volta_Gaussian_mul_1.0_0.0__256_8_perp_N5_BEA_with_adv_removed.pred',\n",
       " 'volta_Gaussian_mul_1.0_0.0__256_8_perp_N5_CoNLL_with_adv_not_removed.pred',\n",
       " 'volta_Gaussian_mul_1.0_0.0__256_8_perp_N5_CoNLL_with_adv_removed.pred']"
      ]
     },
     "execution_count": 37,
     "metadata": {},
     "output_type": "execute_result"
    }
   ],
   "source": [
    "filePath = '/Users/yufanwang/Desktop/Study/Project/Data/conll/attacks'\n",
    "files = sorted(os.listdir(filePath))\n",
    "# files.remove('vyas')\n",
    "sorted(files)"
   ]
  },
  {
   "cell_type": "code",
   "execution_count": 39,
   "id": "1c3a2fdb",
   "metadata": {},
   "outputs": [
    {
     "name": "stdout",
     "output_type": "stream",
     "text": [
      "full_N5_BEA_with_adv_not_removed.pred\n",
      "full_N5_BEA_with_adv_removed.pred\n",
      "full_N5_CoNLL_with_adv_not_removed.pred\n",
      "full_N5_CoNLL_with_adv_removed.pred\n",
      "perp_N5_BEA_with_adv_not_removed.pred\n",
      "perp_N5_BEA_with_adv_removed.pred\n",
      "perp_N5_CoNLL_with_adv_not_removed.pred\n",
      "perp_N5_CoNLL_with_adv_removed.pred\n",
      "volta_Gaussian_mul_1.0_0.0__256_8_full_N5_BEA_with_adv_not_removed.pred\n",
      "volta_Gaussian_mul_1.0_0.0__256_8_full_N5_BEA_with_adv_removed.pred\n",
      "volta_Gaussian_mul_1.0_0.0__256_8_full_N5_CoNLL_with_adv_not_removed.pred\n",
      "volta_Gaussian_mul_1.0_0.0__256_8_full_N5_CoNLL_with_adv_removed.pred\n",
      "volta_Gaussian_mul_1.0_0.0__256_8_perp_N5_BEA_with_adv_not_removed.pred\n",
      "volta_Gaussian_mul_1.0_0.0__256_8_perp_N5_BEA_with_adv_removed.pred\n",
      "volta_Gaussian_mul_1.0_0.0__256_8_perp_N5_CoNLL_with_adv_not_removed.pred\n",
      "volta_Gaussian_mul_1.0_0.0__256_8_perp_N5_CoNLL_with_adv_removed.pred\n"
     ]
    }
   ],
   "source": [
    "for file in files:\n",
    "    print(file)\n",
    "    f = open(filePath + '/' + file)\n",
    "    lines = f.readlines()\n",
    "    res = []\n",
    "    for line in lines:\n",
    "#         pdb.set_trace()\n",
    "#         new_line = line.split(\" \")\n",
    "#         new_line = (\" \").join(new_line[1:])\n",
    "        new_line = line\n",
    "        new_line = new_line.replace(\"..\",\".\")\n",
    "        new_line = new_line.replace(\".\",\" .\")\n",
    "        new_line = new_line.replace(\"?\",\" ?\")\n",
    "        new_line = new_line.replace(\",\",\" ,\")\n",
    "        new_line = new_line.replace(\"\\'\",\" \\'\")\n",
    "        new_line = new_line.replace(\"(\",\" (\")\n",
    "        new_line = new_line.replace(\")\",\" )\")\n",
    "        new_line = new_line.replace(\";\",\" ;\")\n",
    "        new_line = new_line.replace(\":\",\" :\")\n",
    "        new_line = new_line.replace(\"\\\"\",\" \\\"\")\n",
    "        new_line = new_line.replace(\"!\",\" !\")\n",
    "        new_line = new_line.replace(\"%\",\" %\")\n",
    "        new_line = new_line.replace(\"\\'ve\",\" \\'ve\")\n",
    "        new_line = new_line.replace(\"' 'potential bomb \",\"''potential bomb\")\n",
    "        new_line = new_line.replace(\"--\",\"-\")\n",
    "        res.append(new_line)\n",
    "    with open(filePath+\"/clean_\"+file, 'w+') as f:\n",
    "        for item in res:\n",
    "            f.write(item)"
   ]
  },
  {
   "cell_type": "code",
   "execution_count": null,
   "id": "4950a446",
   "metadata": {},
   "outputs": [],
   "source": []
  }
 ],
 "metadata": {
  "kernelspec": {
   "display_name": "Python 3.7.11 ('tensorflow')",
   "language": "python",
   "name": "python3711jvsc74a57bd05dda318d6b5314fdf5adaecef22cc28643ba623e44fc18f1a8a6e0fc05ee2f58"
  },
  "language_info": {
   "codemirror_mode": {
    "name": "ipython",
    "version": 3
   },
   "file_extension": ".py",
   "mimetype": "text/x-python",
   "name": "python",
   "nbconvert_exporter": "python",
   "pygments_lexer": "ipython3",
   "version": "3.7.11"
  }
 },
 "nbformat": 4,
 "nbformat_minor": 5
}
